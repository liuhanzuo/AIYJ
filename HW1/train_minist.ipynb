{
 "cells": [
  {
   "cell_type": "code",
   "execution_count": 24,
   "metadata": {},
   "outputs": [],
   "source": [
    "import torch\n",
    "from torchvision import datasets, transforms\n",
    "from torch.utils.data import DataLoader, random_split\n",
    "\n",
    "import torch.nn as nn\n",
    "import torch.optim as optim\n",
    "import matplotlib.pyplot as plt\n",
    "\n",
    "# Hyperparameters\n",
    "input_size = 784  # 28x28 images\n",
    "hidden_size = 500\n",
    "output_size = 10  # 10 classes for MNIST\n",
    "num_epochs = 50\n",
    "batch_size = 64\n",
    "learning_rate = 1e-3\n",
    "momentum = 0.9\n",
    "\n",
    "# MNIST dataset\n",
    "transform = transforms.Compose([transforms.ToTensor(), transforms.Normalize((0.5,), (0.5,))])\n",
    "dataset = datasets.MNIST(root='./data', train=True, transform=transform, download=True)\n",
    "\n",
    "# Split dataset into training and validation sets (8:2)\n",
    "train_size = int(0.8 * len(dataset))\n",
    "val_size = len(dataset) - train_size\n",
    "train_dataset, val_dataset = random_split(dataset, [train_size, val_size])\n",
    "\n",
    "train_loader = DataLoader(dataset=train_dataset, batch_size=batch_size, shuffle=True)\n",
    "val_loader = DataLoader(dataset=val_dataset, batch_size=batch_size, shuffle=False)\n",
    "\n",
    "# Define the neural network\n",
    "\n",
    "\n"
   ]
  },
  {
   "cell_type": "code",
   "execution_count": 25,
   "metadata": {},
   "outputs": [],
   "source": [
    "class NeuralNet(nn.Module):\n",
    "    def __init__(self, input_size, hidden_size, output_size):\n",
    "        super(NeuralNet, self).__init__()\n",
    "        self.fc1 = nn.Linear(input_size, hidden_size)\n",
    "        self.relu = nn.ReLU()\n",
    "        self.fc2 = nn.Linear(hidden_size, output_size)\n",
    "    \n",
    "    def forward(self, x):\n",
    "        out = self.fc1(x)\n",
    "        out = self.relu(out)\n",
    "        out = self.fc2(out)\n",
    "        return out"
   ]
  },
  {
   "cell_type": "code",
   "execution_count": 26,
   "metadata": {},
   "outputs": [],
   "source": [
    "model = NeuralNet(input_size, hidden_size, output_size).to(\"cuda\")\n",
    "criterion = nn.CrossEntropyLoss()\n",
    "optimizer = optim.SGD(model.parameters(), lr=learning_rate, momentum=momentum) \n",
    "train_errors = []\n",
    "val_errors = []  "
   ]
  },
  {
   "cell_type": "code",
   "execution_count": 27,
   "metadata": {},
   "outputs": [],
   "source": [
    "def train(num_epochs):\n",
    "    for epoch in range(num_epochs):\n",
    "        # print(f\"Epoch {epoch+1}/{num_epochs}\")\n",
    "        model.train()\n",
    "        correct = 0\n",
    "        total = 0\n",
    "        for images, labels in train_loader:\n",
    "            images = images.view(-1, 28*28).to(\"cuda\")\n",
    "            outputs = model(images)\n",
    "            labels = labels.to(\"cuda\")\n",
    "            # print(outputs.device)\n",
    "            # print(labels.device)\n",
    "            loss = criterion(outputs, labels)\n",
    "            optimizer.zero_grad()\n",
    "            loss.backward()\n",
    "            optimizer.step()\n",
    "            \n",
    "            _, predicted = torch.max(outputs.data, 1)\n",
    "            total += labels.size(0)\n",
    "            correct += (predicted == labels).sum().item()\n",
    "        \n",
    "        train_error = 100 * (1 - correct / total)\n",
    "        train_errors.append(train_error)\n",
    "        model.eval()\n",
    "        correct = 0\n",
    "        total = 0\n",
    "        with torch.no_grad():\n",
    "            for images, labels in val_loader:\n",
    "                images = images.view(-1, 28*28).to(\"cuda\")\n",
    "                outputs = model(images)\n",
    "                _, predicted = torch.max(outputs.data, 1)\n",
    "                total += labels.size(0)\n",
    "                labels = labels.to(\"cuda\")\n",
    "                # print(predicted.device)\n",
    "                # print(labels.device)\n",
    "                correct += (predicted == labels).sum().item()\n",
    "        \n",
    "        val_error = 100 * (1 - correct / total)\n",
    "        val_errors.append(val_error)\n",
    "        print(f'Epoch [{epoch+1}/{num_epochs}], Train Error: {train_error:.2f}%, Validation Error: {val_error:.2f}%')\n",
    "    plt.plot(train_errors, label='Train Error')\n",
    "    plt.plot(val_errors, label='Validation Error')\n",
    "    plt.xlabel('Epoch')\n",
    "    plt.ylabel('Error (%)')\n",
    "    plt.legend()\n",
    "    plt.savefig(\"./new_fullconnected.png\")\n",
    "    plt.show()\n"
   ]
  },
  {
   "cell_type": "code",
   "execution_count": 28,
   "metadata": {},
   "outputs": [
    {
     "name": "stdout",
     "output_type": "stream",
     "text": [
      "Epoch [1/50], Train Error: 19.56%, Validation Error: 12.20%\n",
      "Epoch [2/50], Train Error: 10.83%, Validation Error: 10.22%\n",
      "Epoch [3/50], Train Error: 9.51%, Validation Error: 9.25%\n",
      "Epoch [4/50], Train Error: 8.71%, Validation Error: 8.77%\n",
      "Epoch [5/50], Train Error: 8.10%, Validation Error: 8.76%\n",
      "Epoch [6/50], Train Error: 7.57%, Validation Error: 7.76%\n",
      "Epoch [7/50], Train Error: 7.02%, Validation Error: 7.40%\n",
      "Epoch [8/50], Train Error: 6.57%, Validation Error: 7.11%\n",
      "Epoch [9/50], Train Error: 6.07%, Validation Error: 6.78%\n",
      "Epoch [10/50], Train Error: 5.77%, Validation Error: 6.13%\n",
      "Epoch [11/50], Train Error: 5.37%, Validation Error: 5.99%\n"
     ]
    }
   ],
   "source": [
    "train(num_epochs)"
   ]
  }
 ],
 "metadata": {
  "kernelspec": {
   "display_name": "base",
   "language": "python",
   "name": "python3"
  },
  "language_info": {
   "codemirror_mode": {
    "name": "ipython",
    "version": 3
   },
   "file_extension": ".py",
   "mimetype": "text/x-python",
   "name": "python",
   "nbconvert_exporter": "python",
   "pygments_lexer": "ipython3",
   "version": "3.12.3"
  }
 },
 "nbformat": 4,
 "nbformat_minor": 2
}
